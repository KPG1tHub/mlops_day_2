{
 "cells": [
  {
   "attachments": {},
   "cell_type": "markdown",
   "id": "3182a14e",
   "metadata": {},
   "source": [
    "# ML PIPELINE HANDS-ON PROJECT\n",
    "\n",
    "GROUP NAME <br>\n",
    "GROUP MEMBER NAME: "
   ]
  },
  {
   "attachments": {},
   "cell_type": "markdown",
   "id": "c77b3a80",
   "metadata": {},
   "source": [
    "## Section 1: Conduct simple data exploration and data analysis on the given dataset"
   ]
  },
  {
   "attachments": {},
   "cell_type": "markdown",
   "id": "f88d5195",
   "metadata": {},
   "source": [
    "### 1)Display the number of attributes available in the dataset (exam_dataset.csv)?"
   ]
  },
  {
   "cell_type": "code",
   "execution_count": 1,
   "id": "0c263b06",
   "metadata": {},
   "outputs": [],
   "source": [
    "import pandas as pd\n"
   ]
  },
  {
   "cell_type": "code",
   "execution_count": 4,
   "id": "1e3c4005",
   "metadata": {},
   "outputs": [
    {
     "data": {
      "text/html": [
       "<div>\n",
       "<style scoped>\n",
       "    .dataframe tbody tr th:only-of-type {\n",
       "        vertical-align: middle;\n",
       "    }\n",
       "\n",
       "    .dataframe tbody tr th {\n",
       "        vertical-align: top;\n",
       "    }\n",
       "\n",
       "    .dataframe thead th {\n",
       "        text-align: right;\n",
       "    }\n",
       "</style>\n",
       "<table border=\"1\" class=\"dataframe\">\n",
       "  <thead>\n",
       "    <tr style=\"text-align: right;\">\n",
       "      <th></th>\n",
       "      <th>Age</th>\n",
       "      <th>BusinessTravel</th>\n",
       "      <th>MonthlyIncome</th>\n",
       "      <th>JobSatisfaction</th>\n",
       "      <th>Bonus</th>\n",
       "      <th>Department</th>\n",
       "      <th>DistanceFromHome</th>\n",
       "      <th>Education</th>\n",
       "      <th>EducationField</th>\n",
       "      <th>EmployeeCount</th>\n",
       "      <th>...</th>\n",
       "      <th>JobRole</th>\n",
       "      <th>MaritalStatus</th>\n",
       "      <th>PerformanceRating</th>\n",
       "      <th>StockOptionLevel</th>\n",
       "      <th>TrainingTimesLastYear</th>\n",
       "      <th>WorkLifeBalance</th>\n",
       "      <th>YearsAtCompany</th>\n",
       "      <th>YearsSinceLastPromotion</th>\n",
       "      <th>OverTime</th>\n",
       "      <th>Attrition</th>\n",
       "    </tr>\n",
       "  </thead>\n",
       "  <tbody>\n",
       "    <tr>\n",
       "      <th>0</th>\n",
       "      <td>41</td>\n",
       "      <td>Travel_Rarely</td>\n",
       "      <td>5993</td>\n",
       "      <td>4</td>\n",
       "      <td>17979</td>\n",
       "      <td>Sales</td>\n",
       "      <td>1</td>\n",
       "      <td>2</td>\n",
       "      <td>Life Sciences</td>\n",
       "      <td>1</td>\n",
       "      <td>...</td>\n",
       "      <td>Sales Executive</td>\n",
       "      <td>Single</td>\n",
       "      <td>3</td>\n",
       "      <td>0</td>\n",
       "      <td>0</td>\n",
       "      <td>1</td>\n",
       "      <td>6</td>\n",
       "      <td>0</td>\n",
       "      <td>Yes</td>\n",
       "      <td>Yes</td>\n",
       "    </tr>\n",
       "    <tr>\n",
       "      <th>1</th>\n",
       "      <td>49</td>\n",
       "      <td>Travel_Frequently</td>\n",
       "      <td>5130</td>\n",
       "      <td>2</td>\n",
       "      <td>20520</td>\n",
       "      <td>Research &amp; Development</td>\n",
       "      <td>8</td>\n",
       "      <td>1</td>\n",
       "      <td>Life Sciences</td>\n",
       "      <td>1</td>\n",
       "      <td>...</td>\n",
       "      <td>Research Scientist</td>\n",
       "      <td>Married</td>\n",
       "      <td>4</td>\n",
       "      <td>1</td>\n",
       "      <td>3</td>\n",
       "      <td>3</td>\n",
       "      <td>10</td>\n",
       "      <td>1</td>\n",
       "      <td>No</td>\n",
       "      <td>No</td>\n",
       "    </tr>\n",
       "    <tr>\n",
       "      <th>2</th>\n",
       "      <td>37</td>\n",
       "      <td>Travel_Rarely</td>\n",
       "      <td>2090</td>\n",
       "      <td>3</td>\n",
       "      <td>6270</td>\n",
       "      <td>Research &amp; Development</td>\n",
       "      <td>2</td>\n",
       "      <td>2</td>\n",
       "      <td>Other</td>\n",
       "      <td>1</td>\n",
       "      <td>...</td>\n",
       "      <td>Laboratory Technician</td>\n",
       "      <td>Single</td>\n",
       "      <td>3</td>\n",
       "      <td>0</td>\n",
       "      <td>3</td>\n",
       "      <td>3</td>\n",
       "      <td>0</td>\n",
       "      <td>0</td>\n",
       "      <td>Yes</td>\n",
       "      <td>Yes</td>\n",
       "    </tr>\n",
       "    <tr>\n",
       "      <th>3</th>\n",
       "      <td>33</td>\n",
       "      <td>Travel_Frequently</td>\n",
       "      <td>2909</td>\n",
       "      <td>3</td>\n",
       "      <td>8727</td>\n",
       "      <td>Research &amp; Development</td>\n",
       "      <td>3</td>\n",
       "      <td>4</td>\n",
       "      <td>Life Sciences</td>\n",
       "      <td>1</td>\n",
       "      <td>...</td>\n",
       "      <td>Research Scientist</td>\n",
       "      <td>Married</td>\n",
       "      <td>3</td>\n",
       "      <td>0</td>\n",
       "      <td>3</td>\n",
       "      <td>3</td>\n",
       "      <td>8</td>\n",
       "      <td>3</td>\n",
       "      <td>Yes</td>\n",
       "      <td>No</td>\n",
       "    </tr>\n",
       "    <tr>\n",
       "      <th>4</th>\n",
       "      <td>27</td>\n",
       "      <td>Travel_Rarely</td>\n",
       "      <td>3468</td>\n",
       "      <td>2</td>\n",
       "      <td>10404</td>\n",
       "      <td>Research &amp; Development</td>\n",
       "      <td>2</td>\n",
       "      <td>1</td>\n",
       "      <td>Medical</td>\n",
       "      <td>1</td>\n",
       "      <td>...</td>\n",
       "      <td>Laboratory Technician</td>\n",
       "      <td>Married</td>\n",
       "      <td>3</td>\n",
       "      <td>1</td>\n",
       "      <td>3</td>\n",
       "      <td>3</td>\n",
       "      <td>2</td>\n",
       "      <td>2</td>\n",
       "      <td>No</td>\n",
       "      <td>No</td>\n",
       "    </tr>\n",
       "    <tr>\n",
       "      <th>...</th>\n",
       "      <td>...</td>\n",
       "      <td>...</td>\n",
       "      <td>...</td>\n",
       "      <td>...</td>\n",
       "      <td>...</td>\n",
       "      <td>...</td>\n",
       "      <td>...</td>\n",
       "      <td>...</td>\n",
       "      <td>...</td>\n",
       "      <td>...</td>\n",
       "      <td>...</td>\n",
       "      <td>...</td>\n",
       "      <td>...</td>\n",
       "      <td>...</td>\n",
       "      <td>...</td>\n",
       "      <td>...</td>\n",
       "      <td>...</td>\n",
       "      <td>...</td>\n",
       "      <td>...</td>\n",
       "      <td>...</td>\n",
       "      <td>...</td>\n",
       "    </tr>\n",
       "    <tr>\n",
       "      <th>1465</th>\n",
       "      <td>36</td>\n",
       "      <td>Travel_Frequently</td>\n",
       "      <td>2571</td>\n",
       "      <td>4</td>\n",
       "      <td>7713</td>\n",
       "      <td>Research &amp; Development</td>\n",
       "      <td>23</td>\n",
       "      <td>2</td>\n",
       "      <td>Medical</td>\n",
       "      <td>1</td>\n",
       "      <td>...</td>\n",
       "      <td>Laboratory Technician</td>\n",
       "      <td>Married</td>\n",
       "      <td>3</td>\n",
       "      <td>1</td>\n",
       "      <td>3</td>\n",
       "      <td>3</td>\n",
       "      <td>5</td>\n",
       "      <td>0</td>\n",
       "      <td>No</td>\n",
       "      <td>No</td>\n",
       "    </tr>\n",
       "    <tr>\n",
       "      <th>1466</th>\n",
       "      <td>39</td>\n",
       "      <td>Travel_Rarely</td>\n",
       "      <td>9991</td>\n",
       "      <td>1</td>\n",
       "      <td>29973</td>\n",
       "      <td>Research &amp; Development</td>\n",
       "      <td>6</td>\n",
       "      <td>1</td>\n",
       "      <td>Medical</td>\n",
       "      <td>1</td>\n",
       "      <td>...</td>\n",
       "      <td>Healthcare Representative</td>\n",
       "      <td>Married</td>\n",
       "      <td>3</td>\n",
       "      <td>1</td>\n",
       "      <td>5</td>\n",
       "      <td>3</td>\n",
       "      <td>7</td>\n",
       "      <td>1</td>\n",
       "      <td>No</td>\n",
       "      <td>No</td>\n",
       "    </tr>\n",
       "    <tr>\n",
       "      <th>1467</th>\n",
       "      <td>27</td>\n",
       "      <td>Travel_Rarely</td>\n",
       "      <td>6142</td>\n",
       "      <td>2</td>\n",
       "      <td>24568</td>\n",
       "      <td>Research &amp; Development</td>\n",
       "      <td>4</td>\n",
       "      <td>3</td>\n",
       "      <td>Life Sciences</td>\n",
       "      <td>1</td>\n",
       "      <td>...</td>\n",
       "      <td>Manufacturing Director</td>\n",
       "      <td>Married</td>\n",
       "      <td>4</td>\n",
       "      <td>1</td>\n",
       "      <td>0</td>\n",
       "      <td>3</td>\n",
       "      <td>6</td>\n",
       "      <td>0</td>\n",
       "      <td>Yes</td>\n",
       "      <td>No</td>\n",
       "    </tr>\n",
       "    <tr>\n",
       "      <th>1468</th>\n",
       "      <td>49</td>\n",
       "      <td>Travel_Frequently</td>\n",
       "      <td>5390</td>\n",
       "      <td>2</td>\n",
       "      <td>16170</td>\n",
       "      <td>Sales</td>\n",
       "      <td>2</td>\n",
       "      <td>3</td>\n",
       "      <td>Medical</td>\n",
       "      <td>1</td>\n",
       "      <td>...</td>\n",
       "      <td>Sales Executive</td>\n",
       "      <td>Married</td>\n",
       "      <td>3</td>\n",
       "      <td>0</td>\n",
       "      <td>3</td>\n",
       "      <td>2</td>\n",
       "      <td>9</td>\n",
       "      <td>0</td>\n",
       "      <td>No</td>\n",
       "      <td>No</td>\n",
       "    </tr>\n",
       "    <tr>\n",
       "      <th>1469</th>\n",
       "      <td>34</td>\n",
       "      <td>Travel_Rarely</td>\n",
       "      <td>4404</td>\n",
       "      <td>3</td>\n",
       "      <td>13212</td>\n",
       "      <td>Research &amp; Development</td>\n",
       "      <td>8</td>\n",
       "      <td>3</td>\n",
       "      <td>Medical</td>\n",
       "      <td>1</td>\n",
       "      <td>...</td>\n",
       "      <td>Laboratory Technician</td>\n",
       "      <td>Married</td>\n",
       "      <td>3</td>\n",
       "      <td>0</td>\n",
       "      <td>3</td>\n",
       "      <td>4</td>\n",
       "      <td>4</td>\n",
       "      <td>1</td>\n",
       "      <td>No</td>\n",
       "      <td>No</td>\n",
       "    </tr>\n",
       "  </tbody>\n",
       "</table>\n",
       "<p>1470 rows × 24 columns</p>\n",
       "</div>"
      ],
      "text/plain": [
       "      Age     BusinessTravel  MonthlyIncome  JobSatisfaction  Bonus  \\\n",
       "0      41      Travel_Rarely           5993                4  17979   \n",
       "1      49  Travel_Frequently           5130                2  20520   \n",
       "2      37      Travel_Rarely           2090                3   6270   \n",
       "3      33  Travel_Frequently           2909                3   8727   \n",
       "4      27      Travel_Rarely           3468                2  10404   \n",
       "...   ...                ...            ...              ...    ...   \n",
       "1465   36  Travel_Frequently           2571                4   7713   \n",
       "1466   39      Travel_Rarely           9991                1  29973   \n",
       "1467   27      Travel_Rarely           6142                2  24568   \n",
       "1468   49  Travel_Frequently           5390                2  16170   \n",
       "1469   34      Travel_Rarely           4404                3  13212   \n",
       "\n",
       "                  Department  DistanceFromHome  Education EducationField  \\\n",
       "0                      Sales                 1          2  Life Sciences   \n",
       "1     Research & Development                 8          1  Life Sciences   \n",
       "2     Research & Development                 2          2          Other   \n",
       "3     Research & Development                 3          4  Life Sciences   \n",
       "4     Research & Development                 2          1        Medical   \n",
       "...                      ...               ...        ...            ...   \n",
       "1465  Research & Development                23          2        Medical   \n",
       "1466  Research & Development                 6          1        Medical   \n",
       "1467  Research & Development                 4          3  Life Sciences   \n",
       "1468                   Sales                 2          3        Medical   \n",
       "1469  Research & Development                 8          3        Medical   \n",
       "\n",
       "      EmployeeCount  ...                    JobRole  MaritalStatus  \\\n",
       "0                 1  ...            Sales Executive         Single   \n",
       "1                 1  ...         Research Scientist        Married   \n",
       "2                 1  ...      Laboratory Technician         Single   \n",
       "3                 1  ...         Research Scientist        Married   \n",
       "4                 1  ...      Laboratory Technician        Married   \n",
       "...             ...  ...                        ...            ...   \n",
       "1465              1  ...      Laboratory Technician        Married   \n",
       "1466              1  ...  Healthcare Representative        Married   \n",
       "1467              1  ...     Manufacturing Director        Married   \n",
       "1468              1  ...            Sales Executive        Married   \n",
       "1469              1  ...      Laboratory Technician        Married   \n",
       "\n",
       "     PerformanceRating  StockOptionLevel TrainingTimesLastYear  \\\n",
       "0                    3                 0                     0   \n",
       "1                    4                 1                     3   \n",
       "2                    3                 0                     3   \n",
       "3                    3                 0                     3   \n",
       "4                    3                 1                     3   \n",
       "...                ...               ...                   ...   \n",
       "1465                 3                 1                     3   \n",
       "1466                 3                 1                     5   \n",
       "1467                 4                 1                     0   \n",
       "1468                 3                 0                     3   \n",
       "1469                 3                 0                     3   \n",
       "\n",
       "     WorkLifeBalance  YearsAtCompany  YearsSinceLastPromotion  OverTime  \\\n",
       "0                  1               6                        0       Yes   \n",
       "1                  3              10                        1        No   \n",
       "2                  3               0                        0       Yes   \n",
       "3                  3               8                        3       Yes   \n",
       "4                  3               2                        2        No   \n",
       "...              ...             ...                      ...       ...   \n",
       "1465               3               5                        0        No   \n",
       "1466               3               7                        1        No   \n",
       "1467               3               6                        0       Yes   \n",
       "1468               2               9                        0        No   \n",
       "1469               4               4                        1        No   \n",
       "\n",
       "      Attrition  \n",
       "0           Yes  \n",
       "1            No  \n",
       "2           Yes  \n",
       "3            No  \n",
       "4            No  \n",
       "...         ...  \n",
       "1465         No  \n",
       "1466         No  \n",
       "1467         No  \n",
       "1468         No  \n",
       "1469         No  \n",
       "\n",
       "[1470 rows x 24 columns]"
      ]
     },
     "execution_count": 4,
     "metadata": {},
     "output_type": "execute_result"
    }
   ],
   "source": [
    "df = pd.read_csv(\"exam_dataset_PROJECT.csv\")\n",
    "df"
   ]
  },
  {
   "attachments": {},
   "cell_type": "markdown",
   "id": "cba171fe",
   "metadata": {},
   "source": [
    "## 2)Find the dimension number of your dataset"
   ]
  },
  {
   "cell_type": "code",
   "execution_count": 5,
   "id": "7a092785",
   "metadata": {},
   "outputs": [
    {
     "data": {
      "text/plain": [
       "(1470, 24)"
      ]
     },
     "execution_count": 5,
     "metadata": {},
     "output_type": "execute_result"
    }
   ],
   "source": [
    "df.shape"
   ]
  },
  {
   "attachments": {},
   "cell_type": "markdown",
   "id": "5c93bd21",
   "metadata": {},
   "source": [
    "### 3) Display the average of these attributes: ‘Age’, ‘Bonus’ and ‘Years atCompany’. Be sure to round your answer to 4 decimal places"
   ]
  },
  {
   "attachments": {},
   "cell_type": "markdown",
   "id": "0ced0ae4",
   "metadata": {},
   "source": [
    "### 4) Find the minimum and maximum ‘Bonus’"
   ]
  },
  {
   "attachments": {},
   "cell_type": "markdown",
   "id": "66847c61",
   "metadata": {},
   "source": [
    "### 5) What are the departments in this dataset?"
   ]
  },
  {
   "attachments": {},
   "cell_type": "markdown",
   "id": "7701ea6e",
   "metadata": {},
   "source": [
    "### 6) Provide graphical visualization by plotting Histogram of ‘JobSatisfaction’ vs staff numbers’"
   ]
  },
  {
   "attachments": {},
   "cell_type": "markdown",
   "id": "3ff2ef67",
   "metadata": {},
   "source": [
    "### 7.Find the correlation between ‘Bonus’ and ‘JobSatisfaction’"
   ]
  },
  {
   "attachments": {},
   "cell_type": "markdown",
   "id": "9748e25f",
   "metadata": {},
   "source": [
    "### 8.Based on your findings, discuss briefly (you can either use comments/markdown to write your answer) on:"
   ]
  },
  {
   "attachments": {},
   "cell_type": "markdown",
   "id": "bfa27906",
   "metadata": {},
   "source": [
    "- **Range of bonus at Company A** <br>\n",
    "    . <br>\n",
    "\n",
    "\n",
    "- **Most and Least Frequent JobSatisfaction at Company A** <br>\n",
    "   .   <br>\n",
    " \n",
    "\n",
    "- **Discuss your observation on the distribution of bonus values** <br>\n",
    "     <br>\n",
    "\n",
    "\n",
    "- **Is there a linear relationship between bonus and JobSatisfaction at the company??**<br>\n",
    "   ."
   ]
  },
  {
   "attachments": {},
   "cell_type": "markdown",
   "id": "95589139",
   "metadata": {},
   "source": [
    "## B) Classification using Random Forest for: ‘Age’, ‘BusinessTravel’, ‘MonthlyIncome’ and ‘JobSatisfaction’ to predict ‘Attrition’. Sample steps are as below:”"
   ]
  },
  {
   "attachments": {},
   "cell_type": "markdown",
   "id": "f9c3c0cf",
   "metadata": {},
   "source": [
    "### 1) Import necessary libraries"
   ]
  },
  {
   "attachments": {},
   "cell_type": "markdown",
   "id": "82d4a79b",
   "metadata": {},
   "source": [
    "### 2) Import dataset"
   ]
  },
  {
   "attachments": {},
   "cell_type": "markdown",
   "id": "699a86b7",
   "metadata": {},
   "source": [
    "### 3) Allocate the relevant attributes as input and output"
   ]
  },
  {
   "attachments": {},
   "cell_type": "markdown",
   "id": "687c9851",
   "metadata": {},
   "source": [
    "### 4) Use LabelEncoder to encode categorical data"
   ]
  },
  {
   "attachments": {},
   "cell_type": "markdown",
   "id": "5d4ac857",
   "metadata": {},
   "source": [
    "### 5) Split your data into training and test sets with the appropriate proportions"
   ]
  },
  {
   "attachments": {},
   "cell_type": "markdown",
   "id": "de536859",
   "metadata": {},
   "source": [
    "### 6) Normalized your data using StandardScaler"
   ]
  },
  {
   "attachments": {},
   "cell_type": "markdown",
   "id": "cf62f394",
   "metadata": {},
   "source": [
    "### 7) Fit the and predict results using the Naïve Bayes Classifier"
   ]
  },
  {
   "attachments": {},
   "cell_type": "markdown",
   "id": "5c9a2674",
   "metadata": {},
   "source": [
    "### 8) Evaluate your results using confusion matrix and calculate the prediction accuracy"
   ]
  },
  {
   "attachments": {},
   "cell_type": "markdown",
   "id": "a6e699a0",
   "metadata": {},
   "source": [
    "### 9) Discuss your results and findings"
   ]
  },
  {
   "attachments": {},
   "cell_type": "markdown",
   "id": "1e360ed5",
   "metadata": {},
   "source": [
    "- our main concern is to find the classification of attrition rate by considering the Age,BusinessTravel  MonthlyIncome and JobSatisfaction. \n",
    "- Our **independent** variables `Age`, `BusinessTravel`, `MonthlyIncome` and `JobSatisfaction`\n",
    "- Our **dependent** variable: `Attrition`\n",
    "- One of the attributes which is `Business Travel` consist of categorical data. Thus we encode the attribute before applying the model.\n",
    "- Using Random Forest Classifier model, we used 80% of the observations (train set) and fit in our model. While the remaining 20% are used to test the accuracy of the model.\n",
    "- The model has 79.93197278911565% accuracy.\n"
   ]
  },
  {
   "attachments": {},
   "cell_type": "markdown",
   "id": "1fef9d8f",
   "metadata": {},
   "source": [
    "## Section 3 : Clustering comparison between K-Means and DBSCAN"
   ]
  },
  {
   "attachments": {},
   "cell_type": "markdown",
   "id": "439d097b",
   "metadata": {},
   "source": [
    "## A) Perform K-Means clustering (use WCSS to help find best K value) on the givendataset, display clustering results with graphical visualization, provide any necessarycomments and discussions."
   ]
  },
  {
   "attachments": {},
   "cell_type": "markdown",
   "id": "2d35c6f7",
   "metadata": {},
   "source": [
    "### 1) Import necessary libraries"
   ]
  },
  {
   "attachments": {},
   "cell_type": "markdown",
   "id": "1143f90a",
   "metadata": {},
   "source": [
    "### 2) Import dataset"
   ]
  },
  {
   "attachments": {},
   "cell_type": "markdown",
   "id": "6163a641",
   "metadata": {},
   "source": [
    "#### Discussion \n",
    "\n",
    "- Based on WCSS, the optimized number of clusters is 4.\n",
    "- The silhouette score using KMeans is:  0.4329118241119466\n"
   ]
  },
  {
   "attachments": {},
   "cell_type": "markdown",
   "id": "84fafa22",
   "metadata": {},
   "source": [
    "## 2) Perform DBSCAN clustering (use knee locator to help find optimal parameter) on thegiven dataset, display clustering results with graphical visualization, provide anynecessary comments and discussions."
   ]
  },
  {
   "attachments": {},
   "cell_type": "markdown",
   "id": "9d74c1aa",
   "metadata": {},
   "source": [
    "#### Discussion \n",
    "- The optimized parameter for knee is .\n",
    "- The silhouette score using DBSCAN is:  ."
   ]
  },
  {
   "attachments": {},
   "cell_type": "markdown",
   "id": "b3047201",
   "metadata": {},
   "source": [
    "## 3) Conduct comparison studies on the two techniques (K-Means and DBSCAN), with graphical visualization comparisons, discuss your results and decide on whether:"
   ]
  },
  {
   "attachments": {},
   "cell_type": "markdown",
   "id": "3d2b669d",
   "metadata": {},
   "source": [
    "- Graph 1 and Graph 2 shown how the data being clusterized by K-mean and DBSCAN. \n",
    "- Generally silhouette score use to measure the accuracy of model in clustering the data. Basically, The silhouette score of 1 means that the clusters are very dense and nicely separated. The score of 0 means that clusters are overlapping. The score of less than 0 means that data belonging to clusters may be wrong/incorrect.\n",
    "- For this data, we find that the K-Mean have 0.4329118241119466 silhouette score, meanwhile the DBSCAN have 0.2144392865052958. silhouette score.\n",
    "- General understnding of Silhouette score justify that the `K-Means is the better clustering technique for this dataset`\n",
    "- On the other hand based on the figures plotted, the 2 clusters from DBSCAN is best-suited to represent the sinusoidal-like behaviour of the data in comparison with output from K-Means where there are 4 clusters.\n",
    "- Hence, `There’s no clear distinction between the two techniques for this dataset`"
   ]
  },
  {
   "cell_type": "code",
   "execution_count": null,
   "id": "1352e712",
   "metadata": {},
   "outputs": [],
   "source": []
  }
 ],
 "metadata": {
  "kernelspec": {
   "display_name": "Python 3 (ipykernel)",
   "language": "python",
   "name": "python3"
  },
  "language_info": {
   "codemirror_mode": {
    "name": "ipython",
    "version": 3
   },
   "file_extension": ".py",
   "mimetype": "text/x-python",
   "name": "python",
   "nbconvert_exporter": "python",
   "pygments_lexer": "ipython3",
   "version": "3.11.4"
  }
 },
 "nbformat": 4,
 "nbformat_minor": 5
}
